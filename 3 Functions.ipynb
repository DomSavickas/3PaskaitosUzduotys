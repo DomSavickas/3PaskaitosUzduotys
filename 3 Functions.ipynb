{
 "cells": [
  {
   "cell_type": "markdown",
   "metadata": {},
   "source": [
    "# Functions\n",
    "\n",
    "In Python, function is a group of related statements that perform a specific task. Functions help break our program into smaller and modular chunks. As our program grows larger and larger, functions make it more organized and manageable. "
   ]
  },
  {
   "cell_type": "code",
   "execution_count": null,
   "metadata": {},
   "outputs": [],
   "source": [
    "def say_hello():\n",
    "    print(\"hello from function\")\n",
    "\n",
    "say_hello()\n",
    "\n",
    "for i in range(5):\n",
    "    say_hello()\n",
    "\n",
    "print(type(say_hello))"
   ]
  },
  {
   "cell_type": "markdown",
   "metadata": {},
   "source": [
    "# Syntax of Function"
   ]
  },
  {
   "cell_type": "code",
   "execution_count": null,
   "metadata": {},
   "outputs": [],
   "source": [
    "def function_name(parameters):\n",
    "\t\"\"\"docstring\"\"\"\n",
    "\tstatement(s)"
   ]
  },
  {
   "cell_type": "markdown",
   "metadata": {},
   "source": [
    "* Keyword def marks the start of function header.\n",
    "* A function name to uniquely identify it. Function naming follows the same rules of writing identifiers in Python.\n",
    "* Parameters (arguments) through which we pass values to a function. They are optional.\n",
    "* A colon (:) to mark the end of function header.\n",
    "* Optional documentation string (docstring) to describe what the function does.\n",
    "* One or more valid python statements that make up the function body. Statements must have same indentation level (usually 4 spaces).\n",
    "* An optional return statement to return a value from the function."
   ]
  },
  {
   "cell_type": "code",
   "execution_count": null,
   "metadata": {},
   "outputs": [],
   "source": [
    "def say_goodbye():\n",
    "    \"\"\"This function is for saying goodbye.\n",
    "    \"\"\"\n",
    "    print(\"goodbye from function\")\n",
    "\n",
    "say_goodbye()\n",
    "print(say_goodbye.__doc__)"
   ]
  },
  {
   "cell_type": "markdown",
   "metadata": {},
   "source": [
    "# Return statement\n",
    "\n",
    "A return statement is used to end the execution of the function call and “returns” the result (value of the expression following the return keyword) to the caller. The statements after the return statements are not executed. If the return statement is without any expression, then the special value None is returned."
   ]
  },
  {
   "cell_type": "code",
   "execution_count": null,
   "metadata": {},
   "outputs": [],
   "source": [
    "# termination of the function\n",
    "# return not specified in the function, so function returns None\n",
    "def line_numbers():\n",
    "    print(\"first line\")\n",
    "    print(\"second line\")\n",
    "    \n",
    "    return\n",
    "    \n",
    "    print(\"third line\")\n",
    "    \n",
    "return_values = line_numbers()\n",
    "print(return_values)"
   ]
  },
  {
   "cell_type": "code",
   "execution_count": null,
   "metadata": {},
   "outputs": [],
   "source": [
    "# return not specified in the function, so function returns None\n",
    "def line_numbers():\n",
    "    print(\"first line\")\n",
    "    print(\"second line\")\n",
    "    print(\"third line\")\n",
    "    \n",
    "return_values = line_numbers()\n",
    "print(return_values)"
   ]
  },
  {
   "cell_type": "code",
   "execution_count": null,
   "metadata": {},
   "outputs": [],
   "source": [
    "# function returns number\n",
    "def sum():\n",
    "    a = 10\n",
    "    b = 20\n",
    "    return a + b\n",
    "    \n",
    "return_values = sum()\n",
    "print(return_values)"
   ]
  },
  {
   "cell_type": "code",
   "execution_count": null,
   "metadata": {},
   "outputs": [],
   "source": [
    "# function returns list\n",
    "def get_list():\n",
    "    a = [1, 2, 3, 4, 5]\n",
    "    return a\n",
    "    \n",
    "return_values = get_list()\n",
    "print(return_values)"
   ]
  },
  {
   "cell_type": "code",
   "execution_count": null,
   "metadata": {},
   "outputs": [],
   "source": [
    "# function returns several values\n",
    "def get_multiple_values():\n",
    "    a = 10\n",
    "    b = 20\n",
    "    return a, b\n",
    "    \n",
    "return_values = get_multiple_values()\n",
    "print(type(return_values))\n",
    "print(return_values)\n",
    "\n",
    "return_a, return_b = get_multiple_values()\n",
    "print(type(return_a), type(return_b))\n",
    "print(return_a, return_b)"
   ]
  },
  {
   "cell_type": "markdown",
   "metadata": {},
   "source": [
    "# Function Arguments\n",
    "\n",
    "You can call a function by using the following types of formal arguments:\n",
    "\n",
    "*Required arguments - Required arguments are the arguments passed to a function in correct positional order. Here, the number of arguments in the function call should match exactly with the function definition.\n",
    "*Keyword arguments - Keyword arguments are related to the function calls. When you use keyword arguments in a function call, the caller identifies the arguments by the parameter name.\n",
    "*Default arguments - A default argument is an argument that assumes a default value if a value is not provided in the function call for that argument. \n",
    "*Variable-length arguments - You may need to process a function for more arguments than you specified while defining the function. These arguments are called variable-length arguments and are not named in the function definition, unlike required and default arguments."
   ]
  },
  {
   "cell_type": "code",
   "execution_count": null,
   "metadata": {},
   "outputs": [],
   "source": [
    "# Required arguments\n",
    "def say(text_to_say_1, text_to_say_2):\n",
    "    print(text_to_say_1 + \". \" + text_to_say_2)\n",
    "\n",
    "say(\"Hi\", \"How are you?\")\n",
    "say(\"How are you?\")\n",
    "say()"
   ]
  },
  {
   "cell_type": "code",
   "execution_count": null,
   "metadata": {},
   "outputs": [],
   "source": [
    "# Keyword arguments\n",
    "def say(text_to_say_1, text_to_say_2):\n",
    "    print(text_to_say_1 + \". \" + text_to_say_2)\n",
    "\n",
    "say(text_to_say_2=\"How are you?\", text_to_say_1=\"Hi\")\n",
    "say(\"How are you?\")\n",
    "say()"
   ]
  },
  {
   "cell_type": "code",
   "execution_count": null,
   "metadata": {},
   "outputs": [],
   "source": [
    "# Default arguments\n",
    "def say(text_to_say_1, text_to_say_2=\"What time is it?\", text_to_say_3=\"Where is Vilnius?\"):\n",
    "    print(text_to_say_1 + \". \" + text_to_say_2 + \" \" + text_to_say_3)\n",
    "\n",
    "say(text_to_say_1=\"Hi\")\n",
    "say(text_to_say_2=\"How are you?\", text_to_say_1=\"bye\")\n",
    "say(\"Hello\")\n",
    "say(\"Hello\", \"first text.\", \"second text.\")\n",
    "say()"
   ]
  },
  {
   "cell_type": "code",
   "execution_count": null,
   "metadata": {},
   "outputs": [],
   "source": [
    "# Variable-length arguments\n",
    "def say(*text_to_say):\n",
    "    for text in text_to_say:\n",
    "        print(text)\n",
    "\n",
    "say(\"Hi\", \"How are you?\", \"What time is it?\")"
   ]
  },
  {
   "cell_type": "code",
   "execution_count": null,
   "metadata": {},
   "outputs": [],
   "source": [
    "# Variable-length arguments\n",
    "def say(**dialog):\n",
    "    for key, value in dialog.items():\n",
    "        print(key,\" - \", value)\n",
    "\n",
    "say(jonas=\"Hi John.\", petras=\"Hi Mike.\")"
   ]
  },
  {
   "cell_type": "code",
   "execution_count": null,
   "metadata": {},
   "outputs": [],
   "source": [
    "# parameter adjustment in function\n",
    "def add_elements(l):\n",
    "    l.append(\"last\")\n",
    "    l.append(\"element\")\n",
    "\n",
    "a = [1, 2, 3, 4]\n",
    "add_elements(a)\n",
    "print(a)"
   ]
  },
  {
   "cell_type": "code",
   "execution_count": null,
   "metadata": {},
   "outputs": [],
   "source": [
    "# parameter adjustment in function\n",
    "def add_elements(l):\n",
    "    l = [10, 20]\n",
    "\n",
    "a = [1, 2, 3, 4]\n",
    "add_elements(a)\n",
    "print(a)"
   ]
  },
  {
   "cell_type": "code",
   "execution_count": null,
   "metadata": {},
   "outputs": [],
   "source": [
    "# parameter adjustment in function\n",
    "def change(num):\n",
    "    num = 10\n",
    "\n",
    "a = 5\n",
    "change(a)\n",
    "print(a)"
   ]
  },
  {
   "cell_type": "markdown",
   "metadata": {},
   "source": [
    "# Local and Global Variables\n",
    "\n",
    "*Local Variables - A variable declared inside the function's body or in the local scope is known as local variable.\n",
    "*Global Variables - A variable declared outside of the function or in global scope is known as global variable. This means, global variable can be accessed inside or outside of the function."
   ]
  },
  {
   "cell_type": "code",
   "execution_count": null,
   "metadata": {},
   "outputs": [],
   "source": [
    "# Local Variables \n",
    "x = 50\n",
    "\n",
    "def func(x):\n",
    "    print(\"x = \", x)\n",
    "    x = 2\n",
    "    print(\"Changed x value \", x)\n",
    "\n",
    "\n",
    "func(x)\n",
    "print(\"x value at the end \", x)"
   ]
  },
  {
   "cell_type": "code",
   "execution_count": null,
   "metadata": {},
   "outputs": [],
   "source": [
    "# accessing local variable outside the scope will provide an error\n",
    "x = 50\n",
    "\n",
    "def func():\n",
    "    print(\"x = \", x)\n",
    "    x = 2\n",
    "    print(\"Changed x value \", x)\n",
    "\n",
    "\n",
    "func()\n",
    "print(\"x value at the end \", x)"
   ]
  },
  {
   "cell_type": "code",
   "execution_count": null,
   "metadata": {},
   "outputs": [],
   "source": [
    "# global xommand\n",
    "x = 50\n",
    "\n",
    "def func():\n",
    "    global x\n",
    "    print(\"x = \", x)\n",
    "    x = 2\n",
    "    print(\"Changed x value \", x)\n",
    "\n",
    "\n",
    "func()\n",
    "print(\"x value at the end \", x)"
   ]
  },
  {
   "cell_type": "markdown",
   "metadata": {},
   "source": [
    "# Python lambda (Anonymous Functions)\n",
    "\n",
    "In Python, anonymous function is a function that is defined without a name. While normal functions are defined using the def keyword, in Python anonymous functions are defined using the lambda keyword. Hence, anonymous functions are also called lambda functions.\n",
    "\n",
    "* The lambda function can take many arguments but can return only one expression. Here the expression is nothing but the result returned by the lambda function.\n",
    "* Lambda functions are syntactically restricted to return a single expression.\n",
    "* You can use them as an anonymous function inside other functions.\n",
    "* The lambda functions do not need a return statement, they always return a single expression."
   ]
  },
  {
   "cell_type": "code",
   "execution_count": null,
   "metadata": {},
   "outputs": [],
   "source": [
    "# creation and usage\n",
    "a = 1\n",
    "sum = lambda arg1, arg2: arg1 + arg2 + a;\n",
    "\n",
    "print(\"10 + 20 + 1 =\", sum(10, 20))\n",
    "print(\"20 + 20 + 1 =\", sum(20, 20))"
   ]
  },
  {
   "cell_type": "markdown",
   "metadata": {},
   "source": [
    "# Nested function\n",
    "\n",
    "Functions can be defined within the scope of another function. If this type of function definition is used, the inner function is only in scope inside the outer function, so it is most often useful when the inner function is being returned (moving it to the outer scope) or when it is being passed into another function."
   ]
  },
  {
   "cell_type": "code",
   "execution_count": null,
   "metadata": {},
   "outputs": [],
   "source": [
    "# a function in the function\n",
    "def outer_function():\n",
    "    print (\"Hello\")\n",
    "    \n",
    "    def inner_function():\n",
    "        print (\"World\")\n",
    "    \n",
    "    inner_function()\n",
    "\n",
    "outer_function()"
   ]
  },
  {
   "cell_type": "code",
   "execution_count": null,
   "metadata": {},
   "outputs": [],
   "source": [
    "# variables of outer function in inner function\n",
    "def outer_function():\n",
    "    x = 1\n",
    "    \n",
    "    def inner_function(y):\n",
    "        print (x + y)\n",
    "    \n",
    "    inner_function(2)\n",
    "\n",
    "outer_function()"
   ]
  },
  {
   "cell_type": "code",
   "execution_count": null,
   "metadata": {},
   "outputs": [],
   "source": [
    "# variables of outer function in inner function\n",
    "def outer_function():\n",
    "    x = 1\n",
    "    \n",
    "    def inner_function(y):\n",
    "        x = 4\n",
    "        print (x + y)\n",
    "    \n",
    "    inner_function(2)\n",
    "    print(x)\n",
    "\n",
    "outer_function()"
   ]
  },
  {
   "cell_type": "code",
   "execution_count": null,
   "metadata": {},
   "outputs": [],
   "source": [
    "# editing variables of outer function in inner function\n",
    "def outer_function():\n",
    "    outer_function.x = 1\n",
    "    \n",
    "    def inner_function(y):\n",
    "        outer_function.x = 4\n",
    "        print (outer_function.x + y)\n",
    "    \n",
    "    inner_function(2)\n",
    "    print(outer_function.x)\n",
    "\n",
    "outer_function()"
   ]
  },
  {
   "cell_type": "code",
   "execution_count": null,
   "metadata": {},
   "outputs": [],
   "source": [
    "# editing variables of outer function in inner function by using nonlocal.\n",
    "def outer_function():\n",
    "    x = 1\n",
    "    \n",
    "    def inner_function(y):\n",
    "        nonlocal x\n",
    "        x = 4\n",
    "        print (x + y)\n",
    "    \n",
    "    inner_function(2)\n",
    "    print(x)\n",
    "\n",
    "outer_function()"
   ]
  },
  {
   "cell_type": "markdown",
   "metadata": {},
   "source": [
    "# Closures\n",
    "\n",
    "A Closure is a function object that remembers values in enclosing scopes even if they are not present in memory.\n",
    "* t is a record that stores a function together with an environment: a mapping associating each free variable of the function (variables that are used locally, but defined in an enclosing scope) with the value or reference to which the name was bound when the closure was created.\n",
    "* A closure—unlike a plain function—allows the function to access those captured variables through the closure’s copies of their values or references, even when the function is invoked outside their scope.o."
   ]
  },
  {
   "cell_type": "code",
   "execution_count": null,
   "metadata": {},
   "outputs": [],
   "source": [
    "# closures\n",
    "def outer_function(x):\n",
    "    def inner_function(y):\n",
    "        return x + y\n",
    "    \n",
    "    return inner_function\n",
    "\n",
    "add_1 = outer_function(1)\n",
    "add_2 = outer_function(2)\n",
    "\n",
    "print(add_1(100))\n",
    "print(add_2(200))"
   ]
  },
  {
   "cell_type": "markdown",
   "metadata": {},
   "source": [
    "# Generators\n",
    "\n",
    "Generators are used to create iterators, but with a different approach. Generators are simple functions which return an iterable set of items, one at a time, in a special way. When an iteration over a set of item starts using the for statement, the generator is run. Once the generator's function code reaches a \"yield\" statement, the generator yields its execution back to the for loop, returning a new value from the set. The generator function can generate as many values (possibly infinite) as it wants, yielding each one in its turn."
   ]
  },
  {
   "cell_type": "code",
   "execution_count": null,
   "metadata": {},
   "outputs": [],
   "source": [
    "# generators\n",
    "def number_generator(n):\n",
    "    number = 0\n",
    "    while number < n:\n",
    "        yield number\n",
    "        number += 1\n",
    "\n",
    "generator = number_generator(3)\n",
    "\n",
    "print(next(generator))  \n",
    "print(next(generator))  \n",
    "print(next(generator)) \n",
    "\n",
    "generator = number_generator(10)\n",
    "\n",
    "print(next(generator))  \n",
    "print(next(generator))  \n",
    "print(next(generator)) \n",
    "print(next(generator)) \n",
    "print(next(generator)) \n",
    "print(next(generator)) "
   ]
  },
  {
   "cell_type": "code",
   "execution_count": null,
   "metadata": {},
   "outputs": [],
   "source": [
    "# using generator in loop\n",
    "def number_generator(n):\n",
    "    number = 0\n",
    "    while number < n:\n",
    "        yield number\n",
    "        number += 1\n",
    "\n",
    "for num in number_generator(7):\n",
    "    print(num)"
   ]
  },
  {
   "cell_type": "code",
   "execution_count": null,
   "metadata": {},
   "outputs": [],
   "source": [
    "# return using in generator\n",
    "def number_generator(n):\n",
    "    if n <= 20:\n",
    "        number = 0\n",
    "        while number < n:\n",
    "            yield number\n",
    "            number += 1\n",
    "    else:\n",
    "        return\n",
    "\n",
    "for num in number_generator(2):\n",
    "    print(num)\n",
    "\n",
    "for num in number_generator(22):\n",
    "    print(num)"
   ]
  },
  {
   "cell_type": "markdown",
   "metadata": {},
   "source": [
    "# Decorators\n",
    "\n",
    "A decorator in Python is any callable Python object that is used to modify a function or a class. A reference to a function \"func\" or a class \"C\" is passed to a decorator and the decorator returns a modified function or class. The modified functions or classes usually contain calls to the original function \"func\" or class \"C\"."
   ]
  },
  {
   "cell_type": "code",
   "execution_count": null,
   "metadata": {},
   "outputs": [],
   "source": [
    "# decorators\n",
    "def bold(func):\n",
    "    def wrapper():\n",
    "        return \"<b>\" + func() + \"</b>\"\n",
    "    return wrapper\n",
    "  \n",
    "def formatted_text():\n",
    "    return 'Python rocks!'\n",
    " \n",
    "print(formatted_text())\n",
    "\n",
    "formatted_text = bold(formatted_text)\n",
    "print(formatted_text())"
   ]
  },
  {
   "cell_type": "code",
   "execution_count": null,
   "metadata": {},
   "outputs": [],
   "source": [
    "# decorators\n",
    "def bold(func):\n",
    "    def wrapper():\n",
    "        return \"<b>\" + func() + \"</b>\"\n",
    "    return wrapper\n",
    "\n",
    "@bold\n",
    "def formatted_text():\n",
    "    return 'Python rocks!'\n",
    " \n",
    "print(formatted_text())"
   ]
  },
  {
   "cell_type": "code",
   "execution_count": null,
   "metadata": {},
   "outputs": [],
   "source": [
    "# several decorators\n",
    "def bold(func):\n",
    "    def wrapper():\n",
    "        return \"<b>\" + func() + \"</b>\"\n",
    "    return wrapper\n",
    "\n",
    "def italic(func):\n",
    "    def wrapper():\n",
    "        return \"<i>\" + func() + \"</i>\"\n",
    "    return wrapper\n",
    "\n",
    "@italic\n",
    "@bold\n",
    "def formatted_text():\n",
    "    return 'Python rocks!'\n",
    " \n",
    "print(formatted_text())"
   ]
  },
  {
   "cell_type": "code",
   "execution_count": null,
   "metadata": {},
   "outputs": [],
   "source": [
    "# decorators\n",
    "def our_decorator(func):\n",
    "    def function_wrapper(x):\n",
    "        print(\"Prieš kviečiant \" + func.__name__)\n",
    "        \n",
    "        res = func(x)\n",
    "        \n",
    "        print(res)\n",
    "        print(\"Po kvietimo \" + func.__name__)\n",
    "    return function_wrapper\n",
    "\n",
    "@our_decorator\n",
    "def succ(n):\n",
    "    return n + 1\n",
    "\n",
    "succ(10)"
   ]
  },
  {
   "cell_type": "markdown",
   "metadata": {},
   "source": [
    "## Decorators with arguments"
   ]
  },
  {
   "cell_type": "code",
   "execution_count": null,
   "metadata": {},
   "outputs": [],
   "source": [
    "# decorator returns function with argument\n",
    "def split_text(func):\n",
    "    def wrapper(split_char):\n",
    "        return func().split(split_char)\n",
    "    return wrapper\n",
    "\n",
    "@split_text\n",
    "def get_text():\n",
    "    return \"Hello world\"\n",
    "\n",
    "print(get_text(\"e\"))"
   ]
  },
  {
   "cell_type": "code",
   "execution_count": null,
   "metadata": {},
   "outputs": [],
   "source": [
    "# decorator with argument\n",
    "def decorator(split_char):\n",
    "    def split_text(func):\n",
    "        def wrapper():\n",
    "            return func().split(split_char)\n",
    "        return wrapper\n",
    "    return split_text\n",
    "\n",
    "@decorator(\"e\")\n",
    "def get_text():\n",
    "    return \"Hello world\"\n",
    "\n",
    "print(get_text())"
   ]
  },
  {
   "cell_type": "code",
   "execution_count": null,
   "metadata": {},
   "outputs": [],
   "source": [
    "# a basic description of the decorator with all parameters passed to the returned function\n",
    "def pass_thru(func_to_decorate):\n",
    "    def new_func(*original_args, **original_kwargs):\n",
    "        print(\"Function is decorated\")\n",
    "        return func_to_decorate(*original_args, **original_kwargs)\n",
    "    return new_func\n",
    "\n",
    "@pass_thru\n",
    "def print_args(*args):\n",
    "    for arg in args:\n",
    "        print(arg)\n",
    "\n",
    "print_args(1, 2, 3)"
   ]
  },
  {
   "cell_type": "code",
   "execution_count": null,
   "metadata": {},
   "outputs": [],
   "source": [
    "# this is the equivalent\n",
    "def pass_thru(func_to_decorate):\n",
    "    def new_func(*original_args, **original_kwargs):\n",
    "        print(\"Function is decorated\")\n",
    "        return func_to_decorate(*original_args, **original_kwargs)\n",
    "    return new_func\n",
    "\n",
    "def print_args(*args):\n",
    "    for arg in args:\n",
    "        print(arg)\n",
    "\n",
    "pass_thru(print_args)(1, 2, 3)"
   ]
  },
  {
   "cell_type": "code",
   "execution_count": null,
   "metadata": {},
   "outputs": [],
   "source": [
    "# decorator with arguments\n",
    "def decorator(arg1, arg2):\n",
    "    def real_decorator(function):\n",
    "        def wrapper(*args, **kwargs):\n",
    "            print(\"decorator with arguments %s and %s\" % (arg1, arg2))\n",
    "            function(*args, **kwargs)\n",
    "        return wrapper\n",
    "    return real_decorator\n",
    "\n",
    "@decorator(\"arg1\", \"arg2\")\n",
    "def print_args(*args):\n",
    "    for arg in args:\n",
    "        print(arg)\n",
    "\n",
    "print_args(1, 2, 3)"
   ]
  },
  {
   "cell_type": "code",
   "execution_count": null,
   "metadata": {},
   "outputs": [],
   "source": [
    "# this is the equivalent\n",
    "def decorator(arg1, arg2):\n",
    "    def real_decorator(function):\n",
    "        def wrapper(*args, **kwargs):\n",
    "            print(\"decorator with arguments %s and %s\" % (arg1, arg2))\n",
    "            function(*args, **kwargs)\n",
    "        return wrapper\n",
    "    return real_decorator\n",
    "\n",
    "def print_args(*args):\n",
    "    for arg in args:\n",
    "        print(arg)\n",
    "\n",
    "decorator(\"arg1\", \"arg2\")(print_args)(1, 2, 3)"
   ]
  },
  {
   "cell_type": "markdown",
   "metadata": {},
   "source": [
    "# Recursive Function\n",
    "\n",
    "A recursive function is a function defined in terms of itself via self-referential expressions. This means that the function will continue to call itself and repeat its behavior until some condition is met to return a result. All recursive functions share a common structure made up of two parts: base case and recursive case."
   ]
  },
  {
   "cell_type": "code",
   "execution_count": null,
   "metadata": {},
   "outputs": [],
   "source": [
    "# calculation of factorial\n",
    "def factorial(n):\n",
    "    print(\"factorial function is calling with value n = \", n)\n",
    "    if n == 1:\n",
    "        return 1\n",
    "    else:\n",
    "        res = n * factorial(n-1)\n",
    "        print(\"intermediate result\", n, \"* factorial(\" , n-1, \"): \", res)\n",
    "        return res\n",
    "\n",
    "print(factorial(5))"
   ]
  },
  {
   "cell_type": "code",
   "execution_count": null,
   "metadata": {},
   "outputs": [],
   "source": [
    "# factorial with Loop\n",
    "def factorial(n):\n",
    "    result = 1\n",
    "    for i in range(2, n+1):\n",
    "        result *= i\n",
    "    return result\n",
    "\n",
    "print(factorial(5))"
   ]
  },
  {
   "cell_type": "code",
   "execution_count": null,
   "metadata": {},
   "outputs": [],
   "source": [
    "# number of fibonacci (0, 1, 1, 2, 3, 5, 8, 13, 21, 34, 55, 89, 144, 233)\n",
    "def fib(n):\n",
    "    if n == 0:\n",
    "        return 0\n",
    "    elif n == 1:\n",
    "        return 1\n",
    "    else:\n",
    "        return fib(n-1) + fib(n-2)\n",
    "\n",
    "print(fib(6))"
   ]
  },
  {
   "cell_type": "code",
   "execution_count": null,
   "metadata": {},
   "outputs": [],
   "source": [
    "# number of fibonacci with Loop\n",
    "def fib(n):\n",
    "    a, b = 0, 1\n",
    "    for i in range(n):\n",
    "        a, b = b, a + b\n",
    "    return a\n",
    "\n",
    "print(fib(3))"
   ]
  },
  {
   "cell_type": "markdown",
   "metadata": {},
   "source": [
    "# Tasks\n",
    "\n",
    "1. Write a program to calculate the Pythagorean Theorem. The Pythagorean theorem must be computed in a function. The required values must be entered by the user. Write data validation exceptions.\n",
    "2. Write a program to calculate the body mass index. The body mass index must be calculated in the function. Remember to check the correctness of the parameters. The required values must be entered by the user. Write data validation exceptions.\n",
    "3. Write a function that can accept two parameters: the first is a number and the second is a list of numbers. The function must return: the list average, the maximum and the minimum number, the number of digits in the list smaller and larger than the first parameter.\n",
    "4. Write a decorator for the first assignment function that would multiply all values returned by two and print them.\n",
    "5. Write a program that prompts the user to enter a comma-separated sequence of digits. Create a generator that is fed with two parameters: the first - the user-entered text is converted into a list, and the parameter \"stop\" with a default value of 2. The generator should form return elements according to the formula: list value * 0.5. The \"stop\" parameter specifies how many elements to return to the generator. When the number of return items specified in the \"stop\" parameter is reached, the generator stops working. Write data validity exceptions.\n",
    "6. Write a program that asks the user to enter a number. Recursion should be used to calculate the sum of all numbers from 0 to the entered number and print it out. If you enter 4, then 0 + 1 + 2 + 3 + 4 = 10"
   ]
  },
  {
   "cell_type": "code",
   "execution_count": null,
   "metadata": {},
   "outputs": [],
   "source": []
  }
 ],
 "metadata": {
  "kernelspec": {
   "display_name": "Python 3",
   "language": "python",
   "name": "python3"
  },
  "language_info": {
   "codemirror_mode": {
    "name": "ipython",
    "version": 3
   },
   "file_extension": ".py",
   "mimetype": "text/x-python",
   "name": "python",
   "nbconvert_exporter": "python",
   "pygments_lexer": "ipython3",
   "version": "3.7.4"
  }
 },
 "nbformat": 4,
 "nbformat_minor": 2
}
